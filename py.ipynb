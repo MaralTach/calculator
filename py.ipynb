{
 "cells": [
  {
   "cell_type": "code",
   "execution_count": null,
   "metadata": {},
   "outputs": [],
   "source": [
    "from flask import Flask, render_template, request\n",
    "\n",
    "app = Flask(__name__)\n",
    "\n",
    "@app.route('/')\n",
    "def index():\n",
    "    return render_template('index.html')\n",
    "\n",
    "@app.route('/calculate', methods=['POST'])\n",
    "def calculate():\n",
    "    expression = request.form['expression']\n",
    "    try:\n",
    "        result = eval(expression)\n",
    "        return render_template('index.html', result=result)\n",
    "    except:\n",
    "        return render_template('index.html', error=\"Invalid expression\")\n",
    "\n",
    "if __name__ == '__main__':\n",
    "    app.run(debug=True)"
   ]
  }
 ],
 "metadata": {
  "language_info": {
   "name": "python"
  }
 },
 "nbformat": 4,
 "nbformat_minor": 2
}
